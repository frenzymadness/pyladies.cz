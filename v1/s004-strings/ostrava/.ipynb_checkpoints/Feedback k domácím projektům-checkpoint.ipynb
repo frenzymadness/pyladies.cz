{
 "cells": [
  {
   "cell_type": "markdown",
   "metadata": {},
   "source": [
    "## Zpracování odpovědí od uživatele"
   ]
  },
  {
   "cell_type": "markdown",
   "metadata": {},
   "source": [
    "Zpracování odpovědi uživatele je tak trošku alchymie, protože ten může zadat cokoli si zamane a program by do jisté míry měl umět jeho zadání zpracovat. Nicméně není třeba počítat opravdu se všemi eventualitami."
   ]
  },
  {
   "cell_type": "code",
   "execution_count": 7,
   "metadata": {},
   "outputs": [],
   "source": [
    "def odpoved_uzivatele(odpoved):\n",
    "    if odpoved == 'ano' or odpoved == 'ano'[0] or odpoved == 'ano'.upper() or odpoved == 'ano'.lower() or odpoved == ' ano '.strip():\n",
    "        return True\n",
    "    elif odpoved == 'ne' or odpoved == 'ne'[0] or odpoved == 'ne'.upper() or odpoved == 'ne'.lower() or odpoved == ' ne '.strip():\n",
    "        return False"
   ]
  },
  {
   "cell_type": "markdown",
   "metadata": {},
   "source": [
    "Stačilo by upravit odpověď uživatele a odstranit z ní možné záludnosti a pak ji teprve porovnávat."
   ]
  },
  {
   "cell_type": "code",
   "execution_count": 8,
   "metadata": {
    "collapsed": true
   },
   "outputs": [],
   "source": [
    "def odpoved_uzivatele(odpoved):\n",
    "    odpoved = odpoved.strip()  # Odstranime mozne mezery ze zacatku i z konce odpovedi\n",
    "    odpoved = odpoved.lower()  # Prevedeme na mala pismena\n",
    "    if odpoved == 'ano' or odpoved == 'a':\n",
    "        return True\n",
    "    elif odpoved == 'ne' or odpoved == 'n':\n",
    "        return False"
   ]
  },
  {
   "cell_type": "markdown",
   "metadata": {},
   "source": [
    "## Obecné rady a doporučení"
   ]
  },
  {
   "cell_type": "markdown",
   "metadata": {},
   "source": [
    "- Domácí projekt odevzdaly do pondělních osmnácti hodin jen **čtyři** účastnice\n",
    "- **Pokud je nebudete dělat, nemůžete úspěšně absolvovat kurz**"
   ]
  }
 ],
 "metadata": {
  "kernelspec": {
   "display_name": "Python 3",
   "language": "python",
   "name": "python3"
  },
  "language_info": {
   "codemirror_mode": {
    "name": "ipython",
    "version": 3
   },
   "file_extension": ".py",
   "mimetype": "text/x-python",
   "name": "python",
   "nbconvert_exporter": "python",
   "pygments_lexer": "ipython3",
   "version": "3.6.2"
  }
 },
 "nbformat": 4,
 "nbformat_minor": 2
}
